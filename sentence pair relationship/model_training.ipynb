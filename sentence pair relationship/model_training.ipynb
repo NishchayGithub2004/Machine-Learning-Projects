{
 "cells": [
  {
   "cell_type": "markdown",
   "metadata": {},
   "source": [
    "Sentence Pair Relationship Classification\n",
    "\n",
    "In this notebook, we will train a model to classify the relationship between two sentences. \n",
    "\n",
    "The dataset we will use is the Stanford Natural Language Inference (SNLI) dataset, which contains 550,000 sentence pairs labeled with a relationship between them (entailment, contradiction, or neutral).\n",
    "\n",
    "Entailment: The first sentence implies the second sentence. For example, \"The sun is hot.\" and \"The sun has high temprature.\" are classified as entailment since the first sentence implies the second sentence because the sun can have high temprature if it is hot.\n",
    "\n",
    "Contradiction: The first sentence contradicts the second sentence. For example, \"The sun is hot.\" and \"The sun has low temprature.\" are classified as contradiction since the first sentence contradicts the second sentence because the sun cannot have low temprature if it is hot.\n",
    "\n",
    "Neutral: The first sentence does not imply or contradict the second sentence. For example, \"The sun is shining.\" and \"I am a boy.\" are classified as neutral because both the sentences are not related to each other at all."
   ]
  },
  {
   "cell_type": "code",
   "execution_count": null,
   "metadata": {},
   "outputs": [],
   "source": [
    "import pandas as pd # import pandas library to create and use dataframes\n",
    "\n",
    "df = pd.read_csv(\"snli_1.0_train.csv\") # create a dataframe of SNLI training CSV file\n",
    "\n",
    "df = df[['sentence1','sentence2','label1']] # take only the two sentences and their classification columns from the dataframe"
   ]
  },
  {
   "cell_type": "code",
   "execution_count": 2,
   "metadata": {},
   "outputs": [
    {
     "name": "stdout",
     "output_type": "stream",
     "text": [
      "                                                sentence1  \\\n",
      "0       A person on a horse jumps over a broken down a...   \n",
      "1       A person on a horse jumps over a broken down a...   \n",
      "2       A person on a horse jumps over a broken down a...   \n",
      "3                   Children smiling and waving at camera   \n",
      "4                   Children smiling and waving at camera   \n",
      "...                                                   ...   \n",
      "550147                Four dirty and barefooted children.   \n",
      "550148                Four dirty and barefooted children.   \n",
      "550149  A man is surfing in a bodysuit in beautiful bl...   \n",
      "550150  A man is surfing in a bodysuit in beautiful bl...   \n",
      "550151  A man is surfing in a bodysuit in beautiful bl...   \n",
      "\n",
      "                                                sentence2         label1  \n",
      "0       A person is training his horse for a competition.        neutral  \n",
      "1           A person is at a diner, ordering an omelette.  contradiction  \n",
      "2                       A person is outdoors, on a horse.     entailment  \n",
      "3                       They are smiling at their parents        neutral  \n",
      "4                              There are children present     entailment  \n",
      "...                                                   ...            ...  \n",
      "550147           four kids won awards for 'cleanest feet'  contradiction  \n",
      "550148  four homeless children had their shoes stolen,...        neutral  \n",
      "550149  A man in a bodysuit is competing in a surfing ...        neutral  \n",
      "550150  A man in a business suit is heading to a board...  contradiction  \n",
      "550151  On the beautiful blue water there is a man in ...     entailment  \n",
      "\n",
      "[550152 rows x 3 columns]\n"
     ]
    }
   ],
   "source": [
    "print(df) # take a look at the dataframe created"
   ]
  },
  {
   "cell_type": "code",
   "execution_count": 3,
   "metadata": {},
   "outputs": [],
   "source": [
    "df = df.sample(n=5000, random_state=42).reset_index(drop=True) # reduce the dataframe to 5000 random samples and reset the index to start from 0, random_state = 42 makes sure that every time the same set of 5000 samples are randomly selected"
   ]
  },
  {
   "cell_type": "code",
   "execution_count": 4,
   "metadata": {},
   "outputs": [
    {
     "name": "stdout",
     "output_type": "stream",
     "text": [
      "                                              sentence1  \\\n",
      "0     An older gentleman in an orange jumpsuit and g...   \n",
      "1                 Boy and girl running along the beach.   \n",
      "2                    Four men do repair work on a roof.   \n",
      "3     A long-haired young man skateboarding on the r...   \n",
      "4                             A band performs on stage.   \n",
      "...                                                 ...   \n",
      "4995  An older gentleman holding a can of coke and a...   \n",
      "4996  The gutarist upfront is under a spotlight, and...   \n",
      "4997   A boy in a white t-shirt does skateboard tricks.   \n",
      "4998  Two men are driving in opposite directions on ...   \n",
      "4999  A worker begins to make renovations to the out...   \n",
      "\n",
      "                                      sentence2         label1  \n",
      "0        A man is cleaning up around his house.        neutral  \n",
      "1                  Two people run on the beach.     entailment  \n",
      "2                     Four men work with tools.     entailment  \n",
      "3                      A girl is riding a bike.  contradiction  \n",
      "4       People are listening to a rock concert.        neutral  \n",
      "...                                         ...            ...  \n",
      "4995  The older man is holding a glass of beer.  contradiction  \n",
      "4996           A man is singing on stage alone.  contradiction  \n",
      "4997       A boy is in a skateboard tournament.        neutral  \n",
      "4998     The two men are sitting on the ground.  contradiction  \n",
      "4999           The worker is doing construction     entailment  \n",
      "\n",
      "[5000 rows x 3 columns]\n"
     ]
    }
   ],
   "source": [
    "print(df) # take a look at the dataframe after reducing it to 5000 random samples"
   ]
  },
  {
   "cell_type": "markdown",
   "metadata": {},
   "source": [
    "Time for data cleaning to make the data ready for training."
   ]
  },
  {
   "cell_type": "code",
   "execution_count": 5,
   "metadata": {},
   "outputs": [],
   "source": [
    "from sklearn.feature_extraction.text import ENGLISH_STOP_WORDS # import english stop words from scikit-learn library like 'and', 'the', 'is' etc.\n",
    "\n",
    "# convert all values of columns 'sentence1' and 'sentence2' to lower case using lambda function\n",
    "df['sentence1'] = df['sentence1'].apply(lambda x: x.lower())\n",
    "df['sentence2'] = df['sentence2'].apply(lambda x: x.lower())\n",
    "\n",
    "# remove stop words from columns 'sentence1' and'sentence2' using lambda function\n",
    "df['sentence1'] = df['sentence1'].apply(lambda x: ' '.join([word for word in x.split() if word not in ENGLISH_STOP_WORDS]))\n",
    "df['sentence2'] = df['sentence2'].apply(lambda x: ' '.join([word for word in x.split() if word not in ENGLISH_STOP_WORDS]))\n",
    "\n",
    "# first x.split() splits the sentence into a list of words, for example, the sentence \"hello john how are you\" becomes ['hello', 'john', 'how', 'are', 'you']\n",
    "# then a loop iterates over each word in the list and removes the word not in ENGLISH_STOP_WORDS, for exmample, ['hello', 'john' 'how', 'are', 'you'] becomes ['hello', 'john'] since 'how', 'are' and 'you' are english stop words\n",
    "# finally, the join() function joins the list of words back into a string with a white space as separator, for example, ['hello', 'john'] becomes 'hello john'"
   ]
  },
  {
   "cell_type": "code",
   "execution_count": 6,
   "metadata": {},
   "outputs": [
    {
     "name": "stdout",
     "output_type": "stream",
     "text": [
      "                                              sentence1  \\\n",
      "0     older gentleman orange jumpsuit gray hat curb ...   \n",
      "1                               boy girl running beach.   \n",
      "2                                 men repair work roof.   \n",
      "3     long-haired young man skateboarding rails clou...   \n",
      "4                                  band performs stage.   \n",
      "...                                                 ...   \n",
      "4995  older gentleman holding coke young boy sort ma...   \n",
      "4996           gutarist upfront spotlight, drummer too.   \n",
      "4997          boy white t-shirt does skateboard tricks.   \n",
      "4998  men driving opposite directions motorbikes man...   \n",
      "4999   worker begins make renovations outside building.   \n",
      "\n",
      "                           sentence2         label1  \n",
      "0                man cleaning house.        neutral  \n",
      "1                  people run beach.     entailment  \n",
      "2                    men work tools.     entailment  \n",
      "3                  girl riding bike.  contradiction  \n",
      "4     people listening rock concert.        neutral  \n",
      "...                              ...            ...  \n",
      "4995   older man holding glass beer.  contradiction  \n",
      "4996        man singing stage alone.  contradiction  \n",
      "4997      boy skateboard tournament.        neutral  \n",
      "4998             men sitting ground.  contradiction  \n",
      "4999       worker doing construction     entailment  \n",
      "\n",
      "[5000 rows x 3 columns]\n"
     ]
    }
   ],
   "source": [
    "print(df) # take a look at the dataframe after removing stop words from the sentences"
   ]
  },
  {
   "cell_type": "code",
   "execution_count": 7,
   "metadata": {},
   "outputs": [],
   "source": [
    "df = df[df['label1'] != 'neutral'] # remove rows from the dataframe for which value of column 'label1' is 'neutral'\n",
    "df['input'] = df['sentence1'] + \" \" + df['sentence2'] # create a new column 'input' by concatenating values of corresponding values of columns 'sentence1' and 'sentence2' with a white space b/w them as separator"
   ]
  },
  {
   "cell_type": "code",
   "execution_count": 8,
   "metadata": {},
   "outputs": [
    {
     "name": "stdout",
     "output_type": "stream",
     "text": [
      "                                              sentence1  \\\n",
      "1                               boy girl running beach.   \n",
      "2                                 men repair work roof.   \n",
      "3     long-haired young man skateboarding rails clou...   \n",
      "7     hispanic ladies wearing bright clothing crossi...   \n",
      "8     young boy stands golf mat city horizon, golf c...   \n",
      "...                                                 ...   \n",
      "4994                  police horseback outside protest.   \n",
      "4995  older gentleman holding coke young boy sort ma...   \n",
      "4996           gutarist upfront spotlight, drummer too.   \n",
      "4998  men driving opposite directions motorbikes man...   \n",
      "4999   worker begins make renovations outside building.   \n",
      "\n",
      "                                  sentence2         label1  \\\n",
      "1                         people run beach.     entailment   \n",
      "2                           men work tools.     entailment   \n",
      "3                         girl riding bike.  contradiction   \n",
      "7                            people female.     entailment   \n",
      "8     boy just swung golf club goft course.     entailment   \n",
      "...                                     ...            ...   \n",
      "4994        police sitting horses outdoors.     entailment   \n",
      "4995          older man holding glass beer.  contradiction   \n",
      "4996               man singing stage alone.  contradiction   \n",
      "4998                    men sitting ground.  contradiction   \n",
      "4999              worker doing construction     entailment   \n",
      "\n",
      "                                                  input  \n",
      "1             boy girl running beach. people run beach.  \n",
      "2                 men repair work roof. men work tools.  \n",
      "3     long-haired young man skateboarding rails clou...  \n",
      "7     hispanic ladies wearing bright clothing crossi...  \n",
      "8     young boy stands golf mat city horizon, golf c...  \n",
      "...                                                 ...  \n",
      "4994  police horseback outside protest. police sitti...  \n",
      "4995  older gentleman holding coke young boy sort ma...  \n",
      "4996  gutarist upfront spotlight, drummer too. man s...  \n",
      "4998  men driving opposite directions motorbikes man...  \n",
      "4999  worker begins make renovations outside buildin...  \n",
      "\n",
      "[3375 rows x 4 columns]\n"
     ]
    }
   ],
   "source": [
    "print(df) # take a look at the dataframe after creating new column 'input'"
   ]
  },
  {
   "cell_type": "markdown",
   "metadata": {},
   "source": [
    "Time to train the model now. First step is to split the data into training and validation sets."
   ]
  },
  {
   "cell_type": "code",
   "execution_count": 9,
   "metadata": {},
   "outputs": [],
   "source": [
    "from sklearn.model_selection import train_test_split # import 'train_test_split' function from scikit-learn library to split the data into training and testing sets\n",
    "\n",
    "X = df[['input']] # input feature for training will only be the 'input' column from the dataframe\n",
    "y = df['label1'] # output label for training will be the 'label1' column from the dataframe\n",
    "\n",
    "X_train, X_test, y_train, y_test = train_test_split(X, y, test_size=0.2, random_state=42, stratify=y)\n",
    "# split the data into training and testing sets using the 'train_test_split' function from scikit-learn library\n",
    "# X_train and y_train will be used to train the model, while X_test and y_test will be used to evaluate the model's performance\n",
    "# test_size=0.2 means that 20% of the data will be used for testing, and the remaining 80% will be used for training\n",
    "# random_state=42 ensures that the split will be the same every time the code is run\n",
    "# stratify=y ensures that the proportion of each class in the output label is the same in both the training and testing sets\n",
    "# this means that ratio of rows with label 'entailment' 'contradiction' and 'neutral' will be the same in both the training and testing sets to avoid any bias in the model's performance"
   ]
  },
  {
   "cell_type": "code",
   "execution_count": 10,
   "metadata": {},
   "outputs": [],
   "source": [
    "from sklearn.feature_extraction.text import TfidfVectorizer # import TF-IDF vectorizer from scikit-learn library to convert text data into numerical features since machine learning algorithms require numerical input to learn patterns from data\n",
    "\n",
    "tfidf = TfidfVectorizer() # create an instance of the TF-IDF vectorizer to use it\n",
    "\n",
    "X_train_tfidf = tfidf.fit_transform(X_train['input']) # fit the TF-IDF vectorizer on training text to learn vocabulary and compute tf-idf scores, then transform the training text into numeric feature vectors\n",
    "X_test_tfidf = tfidf.transform(X_test['input']) # use the same learned vocabulary to transform test text into tf-idf numeric feature vectors without refitting to prevent data leakage"
   ]
  },
  {
   "cell_type": "code",
   "execution_count": 11,
   "metadata": {},
   "outputs": [
    {
     "name": "stdout",
     "output_type": "stream",
     "text": [
      "Training Logistic Regression...\n",
      "Classification Report for Logistic Regression:\n",
      "\n",
      "               precision    recall  f1-score   support\n",
      "\n",
      "contradiction       0.61      0.64      0.63       347\n",
      "   entailment       0.60      0.56      0.58       328\n",
      "\n",
      "     accuracy                           0.60       675\n",
      "    macro avg       0.60      0.60      0.60       675\n",
      " weighted avg       0.60      0.60      0.60       675\n",
      "\n",
      "Confusion Matrix for Logistic Regression:\n",
      "\n",
      "[[223 124]\n",
      " [143 185]]\n"
     ]
    },
    {
     "data": {
      "image/png": "[encoded data removed]",
      "text/plain": [
       "<Figure size 800x600 with 2 Axes>"
      ]
     },
     "metadata": {},
     "output_type": "display_data"
    },
    {
     "name": "stdout",
     "output_type": "stream",
     "text": [
      "==================================================\n",
      "Training Random Forest...\n",
      "Classification Report for Random Forest:\n",
      "\n",
      "               precision    recall  f1-score   support\n",
      "\n",
      "contradiction       0.64      0.57      0.60       347\n",
      "   entailment       0.59      0.66      0.63       328\n",
      "\n",
      "     accuracy                           0.62       675\n",
      "    macro avg       0.62      0.62      0.62       675\n",
      " weighted avg       0.62      0.62      0.62       675\n",
      "\n",
      "Confusion Matrix for Random Forest:\n",
      "\n",
      "[[198 149]\n",
      " [110 218]]\n"
     ]
    },
    {
     "data": {
      "image/png": "[encoded data removed]",
      "text/plain": [
       "<Figure size 800x600 with 2 Axes>"
      ]
     },
     "metadata": {},
     "output_type": "display_data"
    },
    {
     "name": "stdout",
     "output_type": "stream",
     "text": [
      "==================================================\n",
      "Training SVM...\n",
      "Classification Report for SVM:\n",
      "\n",
      "               precision    recall  f1-score   support\n",
      "\n",
      "contradiction       0.60      0.62      0.61       347\n",
      "   entailment       0.59      0.56      0.57       328\n",
      "\n",
      "     accuracy                           0.59       675\n",
      "    macro avg       0.59      0.59      0.59       675\n",
      " weighted avg       0.59      0.59      0.59       675\n",
      "\n",
      "Confusion Matrix for SVM:\n",
      "\n",
      "[[216 131]\n",
      " [143 185]]\n"
     ]
    },
    {
     "data": {
      "image/png": "[encoded data removed]",
      "text/plain": [
       "<Figure size 800x600 with 2 Axes>"
      ]
     },
     "metadata": {},
     "output_type": "display_data"
    },
    {
     "name": "stdout",
     "output_type": "stream",
     "text": [
      "==================================================\n"
     ]
    }
   ],
   "source": [
    "from sklearn.linear_model import LogisticRegression\n",
    "from sklearn.ensemble import RandomForestClassifier\n",
    "from sklearn.svm import SVC\n",
    "from sklearn.metrics import classification_report, confusion_matrix\n",
    "import seaborn as sns\n",
    "import matplotlib.pyplot as plt\n",
    "\n",
    "# create a list of models to train them sequentially\n",
    "models = [\n",
    "    ('Logistic Regression', LogisticRegression()),\n",
    "    ('Random Forest', RandomForestClassifier()),\n",
    "    ('SVM', SVC(kernel='linear'))\n",
    "]\n",
    "\n",
    "# loop through models to train them, test them and print classification report, confusion matrix and heat map for each model created\n",
    "for name, model in models:\n",
    "    print(f\"Training {name}...\")\n",
    "\n",
    "    model.fit(X_train_tfidf, y_train)\n",
    "    \n",
    "    y_pred = model.predict(X_test_tfidf)\n",
    "    \n",
    "    print(f\"Classification Report for {name}:\\n\")\n",
    "    print(classification_report(y_test, y_pred))\n",
    "    \n",
    "    print(f\"Confusion Matrix for {name}:\\n\")\n",
    "    cm = confusion_matrix(y_test, y_pred)\n",
    "    print(cm)\n",
    "\n",
    "    plt.figure(figsize=(8, 6))\n",
    "    sns.heatmap(cm, annot=True, fmt='d', cmap='Blues', xticklabels=model.classes_, yticklabels=model.classes_)\n",
    "    plt.title(f\"Confusion Matrix: {name}\")\n",
    "    plt.xlabel('Predicted')\n",
    "    plt.ylabel('Actual')\n",
    "    plt.show()\n",
    "\n",
    "    print(\"=\" * 50)"
   ]
  },
  {
   "cell_type": "markdown",
   "metadata": {},
   "source": [
    "Based on various parameters like accuracy, precision, recall, f1 score, and support, the best model for the given dataset is the Random Forest Classifier. Hence, we will use this model for our prediction."
   ]
  },
  {
   "cell_type": "code",
   "execution_count": 12,
   "metadata": {},
   "outputs": [
    {
     "name": "stdout",
     "output_type": "stream",
     "text": [
      "Classification Report :\n",
      "\n",
      "               precision    recall  f1-score   support\n",
      "\n",
      "contradiction       0.61      0.64      0.63       347\n",
      "   entailment       0.60      0.56      0.58       328\n",
      "\n",
      "     accuracy                           0.60       675\n",
      "    macro avg       0.60      0.60      0.60       675\n",
      " weighted avg       0.60      0.60      0.60       675\n",
      "\n",
      "Confusion Matrix for:\n",
      "\n",
      "[[223 124]\n",
      " [143 185]]\n"
     ]
    }
   ],
   "source": [
    "model = LogisticRegression()\n",
    "\n",
    "model.fit(X_train_tfidf, y_train) # train the model\n",
    "\n",
    "y_pred = model.predict(X_test_tfidf) # make predictions\n",
    "\n",
    "# print classification report\n",
    "print(f\"Classification Report :\\n\")\n",
    "print(classification_report(y_test, y_pred))\n",
    "\n",
    "# print confusion matrix\n",
    "print(f\"Confusion Matrix for:\\n\")\n",
    "cm = confusion_matrix(y_test, y_pred)\n",
    "print(cm)"
   ]
  },
  {
   "cell_type": "markdown",
   "metadata": {},
   "source": [
    "Next step is to creaet a function that will take the two input sentences, trained model and the vectorizer as argument."
   ]
  },
  {
   "cell_type": "code",
   "execution_count": 13,
   "metadata": {},
   "outputs": [],
   "source": [
    "def detect(inp1, inp2, model, tfidf):\n",
    "    combined_input = inp1 + \" \" + inp2 # combine the two input sentences separated by a single white space\n",
    "    \n",
    "    combined_input = combined_input.lower() # convert the concatenated sentence to lowercase\n",
    "    \n",
    "    transformed_input = tfidf.transform([combined_input]) # transform the combined input using the TF-IDF vectorizer\n",
    "    \n",
    "    prediction = model.predict(transformed_input) # predict the output label using the trained model\n",
    "    \n",
    "    return prediction[0] # return the predicted output label with [0] since it is returned in a list format"
   ]
  },
  {
   "cell_type": "markdown",
   "metadata": {},
   "source": [
    "Now let's make predictions on some test input."
   ]
  },
  {
   "cell_type": "code",
   "execution_count": 15,
   "metadata": {},
   "outputs": [
    {
     "name": "stdout",
     "output_type": "stream",
     "text": [
      "Prediction: contradiction\n"
     ]
    }
   ],
   "source": [
    "inp1 = \"A man is playing a guitar.\"\n",
    "inp2 = \"A man is riding a bike.\"\n",
    "\n",
    "prediction = detect(inp1, inp2, model, tfidf)\n",
    "print(f\"Prediction: {prediction}\") # expected output: \"contradiction\""
   ]
  },
  {
   "cell_type": "code",
   "execution_count": 16,
   "metadata": {},
   "outputs": [
    {
     "name": "stdout",
     "output_type": "stream",
     "text": [
      "Prediction: entailment\n"
     ]
    }
   ],
   "source": [
    "inp1 = \"Two people are having a conversation.\"\n",
    "inp2 = \"Two people are talking to each other.\"\n",
    "\n",
    "prediction = detect(inp1, inp2, model, tfidf)\n",
    "print(f\"Prediction: {prediction}\") # expected output: \"entailment\""
   ]
  },
  {
   "cell_type": "code",
   "execution_count": 19,
   "metadata": {},
   "outputs": [],
   "source": [
    "# export vectorizer and predictor model in serialized form using pickle module\n",
    "import pickle\n",
    "pickle.dump(model,open(\"model.pkl\",'wb'))\n",
    "pickle.dump(tfidf,open(\"tfidf.pkl\",'wb'))"
   ]
  }
 ],
 "metadata": {
  "kernelspec": {
   "display_name": "Python 3",
   "language": "python",
   "name": "python3"
  },
  "language_info": {
   "codemirror_mode": {
    "name": "ipython",
    "version": 3
   },
   "file_extension": ".py",
   "mimetype": "text/x-python",
   "name": "python",
   "nbconvert_exporter": "python",
   "pygments_lexer": "ipython3",
   "version": "3.11.9"
  }
 },
 "nbformat": 4,
 "nbformat_minor": 2
}
